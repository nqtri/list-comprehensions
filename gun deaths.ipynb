{
 "cells": [
  {
   "cell_type": "markdown",
   "metadata": {},
   "source": [
    "#US Gun Deaths\n",
    "\n",
    "In this guided project during my course at Dataquest, I will be analyzing data on gun deaths in the US.\n",
    "\n",
    "The dataset comes from FiveThirtyEight on Github. It contains information on gun deaths in the US from 2012 to 2014. Each row in the dataset represents a single fatality. The columns contain demographic and other information about the victim."
   ]
  },
  {
   "cell_type": "code",
   "execution_count": 2,
   "metadata": {},
   "outputs": [],
   "source": [
    "#Read the dataset\n",
    "\n",
    "import csv\n",
    "\n",
    "guns = open(\"guns.csv\",\"r\")\n",
    "\n",
    "data = list(csv.reader(guns)) #Get a list of all the data in the file"
   ]
  },
  {
   "cell_type": "code",
   "execution_count": 3,
   "metadata": {},
   "outputs": [
    {
     "name": "stdout",
     "output_type": "stream",
     "text": [
      "[['', 'year', 'month', 'intent', 'police', 'sex', 'age', 'race', 'hispanic', 'place', 'education'], ['1', '2012', '01', 'Suicide', '0', 'M', '34', 'Asian/Pacific Islander', '100', 'Home', 'BA+'], ['2', '2012', '01', 'Suicide', '0', 'F', '21', 'White', '100', 'Street', 'Some college'], ['3', '2012', '01', 'Suicide', '0', 'M', '60', 'White', '100', 'Other specified', 'BA+'], ['4', '2012', '02', 'Suicide', '0', 'M', '64', 'White', '100', 'Home', 'BA+']]\n"
     ]
    }
   ],
   "source": [
    "#Here are the first 5 rows of the data set\n",
    "\n",
    "print(data[:5])"
   ]
  },
  {
   "cell_type": "code",
   "execution_count": 4,
   "metadata": {},
   "outputs": [
    {
     "name": "stdout",
     "output_type": "stream",
     "text": [
      "['', 'year', 'month', 'intent', 'police', 'sex', 'age', 'race', 'hispanic', 'place', 'education']\n",
      "[['1', '2012', '01', 'Suicide', '0', 'M', '34', 'Asian/Pacific Islander', '100', 'Home', 'BA+'], ['2', '2012', '01', 'Suicide', '0', 'F', '21', 'White', '100', 'Street', 'Some college'], ['3', '2012', '01', 'Suicide', '0', 'M', '60', 'White', '100', 'Other specified', 'BA+'], ['4', '2012', '02', 'Suicide', '0', 'M', '64', 'White', '100', 'Home', 'BA+'], ['5', '2012', '02', 'Suicide', '0', 'M', '31', 'White', '100', 'Other specified', 'HS/GED']]\n"
     ]
    }
   ],
   "source": [
    "#Extract the first row of the data as headers\n",
    "# Remove the first row from the main data, we do not need these in order to analyze the data\n",
    "\n",
    "headers = data[0]\n",
    "\n",
    "data = data[1:]\n",
    "\n",
    "print (headers)\n",
    "\n",
    "print (data[:5])\n",
    "\n"
   ]
  },
  {
   "cell_type": "code",
   "execution_count": 5,
   "metadata": {},
   "outputs": [
    {
     "name": "stdout",
     "output_type": "stream",
     "text": [
      "{'2012': 33563, '2013': 33636, '2014': 33599}\n"
     ]
    }
   ],
   "source": [
    "#Extract the year information to work out gun deaths per year\n",
    "\n",
    "years = [n[1] for n in data] #extract year data into a new list\n",
    "\n",
    "year_counts = {}\n",
    "\n",
    "for n in years: #count number of deaths each year\n",
    "    if n in year_counts:\n",
    "        year_counts[n] += 1\n",
    "    else: \n",
    "        year_counts[n] = 1\n",
    "\n",
    "print (year_counts)"
   ]
  },
  {
   "cell_type": "code",
   "execution_count": 6,
   "metadata": {},
   "outputs": [
    {
     "name": "stdout",
     "output_type": "stream",
     "text": [
      "[datetime.datetime(2012, 1, 1, 0, 0), datetime.datetime(2012, 1, 1, 0, 0), datetime.datetime(2012, 1, 1, 0, 0), datetime.datetime(2012, 2, 1, 0, 0), datetime.datetime(2012, 2, 1, 0, 0)]\n"
     ]
    }
   ],
   "source": [
    "#The numbers of gun deaths do not seem to change much by year. Hence, I will investigate further by counting the death numbers by month and year\n",
    "\n",
    "import datetime #import datetime module\n",
    "\n",
    "dates = [datetime.datetime(year=int(n[1]), month=int(n[2]), day =1) for n in data] #create a list of datetime object for each row\n",
    "\n",
    "print (dates[:5])"
   ]
  },
  {
   "cell_type": "code",
   "execution_count": 7,
   "metadata": {},
   "outputs": [
    {
     "name": "stdout",
     "output_type": "stream",
     "text": [
      "{datetime.datetime(2012, 1, 1, 0, 0): 2758, datetime.datetime(2012, 2, 1, 0, 0): 2357, datetime.datetime(2012, 3, 1, 0, 0): 2743, datetime.datetime(2012, 4, 1, 0, 0): 2795, datetime.datetime(2012, 5, 1, 0, 0): 2999, datetime.datetime(2012, 6, 1, 0, 0): 2826, datetime.datetime(2012, 7, 1, 0, 0): 3026, datetime.datetime(2012, 8, 1, 0, 0): 2954, datetime.datetime(2012, 9, 1, 0, 0): 2852, datetime.datetime(2012, 10, 1, 0, 0): 2733, datetime.datetime(2012, 11, 1, 0, 0): 2729, datetime.datetime(2012, 12, 1, 0, 0): 2791, datetime.datetime(2013, 1, 1, 0, 0): 2864, datetime.datetime(2013, 2, 1, 0, 0): 2375, datetime.datetime(2013, 3, 1, 0, 0): 2862, datetime.datetime(2013, 4, 1, 0, 0): 2798, datetime.datetime(2013, 5, 1, 0, 0): 2806, datetime.datetime(2013, 6, 1, 0, 0): 2920, datetime.datetime(2013, 7, 1, 0, 0): 3079, datetime.datetime(2013, 8, 1, 0, 0): 2859, datetime.datetime(2013, 9, 1, 0, 0): 2742, datetime.datetime(2013, 10, 1, 0, 0): 2808, datetime.datetime(2013, 11, 1, 0, 0): 2758, datetime.datetime(2013, 12, 1, 0, 0): 2765, datetime.datetime(2014, 1, 1, 0, 0): 2651, datetime.datetime(2014, 2, 1, 0, 0): 2361, datetime.datetime(2014, 3, 1, 0, 0): 2684, datetime.datetime(2014, 4, 1, 0, 0): 2862, datetime.datetime(2014, 5, 1, 0, 0): 2864, datetime.datetime(2014, 6, 1, 0, 0): 2931, datetime.datetime(2014, 7, 1, 0, 0): 2884, datetime.datetime(2014, 8, 1, 0, 0): 2970, datetime.datetime(2014, 9, 1, 0, 0): 2914, datetime.datetime(2014, 10, 1, 0, 0): 2865, datetime.datetime(2014, 11, 1, 0, 0): 2756, datetime.datetime(2014, 12, 1, 0, 0): 2857}\n"
     ]
    }
   ],
   "source": [
    "#Count the number of deaths for each unique date\n",
    "\n",
    "date_counts = {}\n",
    "\n",
    "for n in dates:\n",
    "    if n in date_counts:\n",
    "        date_counts[n] += 1\n",
    "    else:\n",
    "        date_counts[n] = 1\n",
    "        \n",
    "print (date_counts)"
   ]
  },
  {
   "cell_type": "code",
   "execution_count": 8,
   "metadata": {},
   "outputs": [],
   "source": [
    "#Gun deaths seem consistent over month and year, hovering around the high 2000 with a range of 2000 - 3000"
   ]
  },
  {
   "cell_type": "code",
   "execution_count": 9,
   "metadata": {},
   "outputs": [
    {
     "name": "stdout",
     "output_type": "stream",
     "text": [
      "{'M': 86349, 'F': 14449}\n"
     ]
    }
   ],
   "source": [
    "#Next, I explore deaths by sex by counting how many gun deaths per sex there are\n",
    "\n",
    "sex = [n[5] for n in data] \n",
    "\n",
    "sex_counts = {} \n",
    "\n",
    "for n in sex:\n",
    "    if n in sex_counts:\n",
    "        sex_counts[n] += 1\n",
    "    else:\n",
    "        sex_counts[n] = 1  \n",
    "        \n",
    "print (sex_counts)"
   ]
  },
  {
   "cell_type": "code",
   "execution_count": 10,
   "metadata": {},
   "outputs": [
    {
     "name": "stdout",
     "output_type": "stream",
     "text": [
      "5.976122915080628\n"
     ]
    }
   ],
   "source": [
    "#The first significant patten emerges that there are more gun deaths from males than females\n",
    "\n",
    "death_ratio_by_sex = sex_counts['M']/sex_counts['F']\n",
    "\n",
    "print (death_ratio_by_sex)\n",
    "\n",
    "#In fact, male gun deaths are nearly 6 times more than female"
   ]
  },
  {
   "cell_type": "code",
   "execution_count": 11,
   "metadata": {},
   "outputs": [
    {
     "name": "stdout",
     "output_type": "stream",
     "text": [
      "{'Asian/Pacific Islander': 1326, 'White': 66237, 'Native American/Native Alaskan': 917, 'Black': 23296, 'Hispanic': 9022}\n"
     ]
    }
   ],
   "source": [
    "#Then, I proceed to count gun deaths for race\n",
    "\n",
    "race = [n[7] for n in data] \n",
    "\n",
    "race_counts = {} \n",
    "\n",
    "for n in race:\n",
    "    if n in race_counts:\n",
    "        race_counts[n] += 1\n",
    "    else:\n",
    "        race_counts[n] = 1   \n",
    "        \n",
    "print (race_counts)"
   ]
  },
  {
   "cell_type": "markdown",
   "metadata": {},
   "source": [
    "White has the most gun deaths, followed by Black, then Hispanic. Native American has the least gun deaths among all available races.It will be intersting if we investigate further to see if there is a particular intent with the most gun deaths as well as education level of the victim."
   ]
  },
  {
   "cell_type": "code",
   "execution_count": 13,
   "metadata": {},
   "outputs": [
    {
     "name": "stdout",
     "output_type": "stream",
     "text": [
      "[['Id', 'Year', 'Id', 'Sex', 'Id', 'Hispanic Origin', 'Id', 'Id2', 'Geography', 'Total', 'Race Alone - White', 'Race Alone - Hispanic', 'Race Alone - Black or African American', 'Race Alone - American Indian and Alaska Native', 'Race Alone - Asian', 'Race Alone - Native Hawaiian and Other Pacific Islander', 'Two or More Races'], ['cen42010', 'April 1, 2010 Census', 'totsex', 'Both Sexes', 'tothisp', 'Total', '0100000US', '', 'United States', '308745538', '197318956', '44618105', '40250635', '3739506', '15159516', '674625', '6984195']]\n"
     ]
    }
   ],
   "source": [
    "#So far, we only get to now the total number of gun deaths in the US by race. However, without the the proportion of each race in the US, we cannot draw any meaningful conclusion\n",
    "#Hence, I will calculate the rate of gun deaths per 100,000 people of each race\n",
    "\n",
    "census_data = open(\"census.csv\",\"r\") #getting the data on total population of the US as well as of each racial group \n",
    "\n",
    "census = list(csv.reader(census_data))\n",
    "\n",
    "print (census)"
   ]
  },
  {
   "cell_type": "markdown",
   "metadata": {},
   "source": [
    "Below is a list of the race name in data, and the corresponding race name in census:\n",
    "\n",
    "Asian/Pacific Islander: Race Alone - Asian + Race Alone - Native Hawaiian and Other Pacific Islander\n",
    "Black: Race Alone - Black or African American\n",
    "Hispanic: Race Alone - Hispanic\n",
    "Native American/Native Alaskan: Race Alone - American Indian and Alaska Native\n",
    "White: Race Alone - White"
   ]
  },
  {
   "cell_type": "code",
   "execution_count": 15,
   "metadata": {},
   "outputs": [],
   "source": [
    "#Following the instruction of the project, I will manually create a dictionary that maps each key race from race_counts to the population count of the race from census\n",
    "#Later on, I will try to accomplish this step with regular expressions\n",
    "\n",
    "mapping = {\"Asian/Pacific Islander\":15834141,\n",
    "           \"Black\":40250635,\n",
    "           \"Hispanic\":44618105,\n",
    "           \"Native American/Native Alaskan\":3739506,\n",
    "           \"White\":197318956}"
   ]
  },
  {
   "cell_type": "code",
   "execution_count": 17,
   "metadata": {},
   "outputs": [
    {
     "name": "stdout",
     "output_type": "stream",
     "text": [
      "{'Hispanic': '44618105', 'White': '197318956', 'Black': '40250635'}\n"
     ]
    }
   ],
   "source": [
    "#Using regrex to match race with population data\n",
    "\n",
    "import re\n",
    "\n",
    "regrex_mapping = {}\n",
    "for i, a in enumerate (census[0]):\n",
    "    for n in race:\n",
    "        if re.search(n, a) is not None:\n",
    "            regrex_map[n] = census[1][i]\n",
    "\n",
    "print (regrex_mapping)"
   ]
  },
  {
   "cell_type": "markdown",
   "metadata": {},
   "source": [
    "I face a complication in looking for population data for Asian/Pacific Islander and Native American/Native Alaskan since they do not match any partial string of how they are named in census data. Hispanic, White, and Black are easier since there is only one word in each to look for. I managed to match these with their correct population. \n",
    "\n",
    "With what I have learned so far this regrex method seems to work only partially. I hope to address this after I advance further in my study."
   ]
  },
  {
   "cell_type": "code",
   "execution_count": 19,
   "metadata": {},
   "outputs": [
    {
     "name": "stdout",
     "output_type": "stream",
     "text": [
      "{'Asian/Pacific Islander': 8.374309664161762, 'White': 33.56849303419181, 'Native American/Native Alaskan': 24.521955573811088, 'Black': 57.8773477735196, 'Hispanic': 20.220491210910907}\n"
     ]
    }
   ],
   "source": [
    "#Compute death counts per 100,000 per race\n",
    "\n",
    "race_per_hundredk ={}\n",
    "for n in race_counts:\n",
    "    per_hundredk = race_counts[n]/mapping[n]*100000\n",
    "    race_per_hundredk[n] = per_hundredk\n",
    "    \n",
    "print (race_per_hundredk)"
   ]
  },
  {
   "cell_type": "markdown",
   "metadata": {},
   "source": [
    "This is different from what we saw with total death per race numbers. Here, Black race has the higher rate gun deaths per 100,000, followed by White, then Native American. Moreover, Black race almost has double the death rate compared to White."
   ]
  },
  {
   "cell_type": "code",
   "execution_count": 21,
   "metadata": {},
   "outputs": [
    {
     "name": "stdout",
     "output_type": "stream",
     "text": [
      "{'White': 9147, 'Asian/Pacific Islander': 559, 'Black': 19510, 'Native American/Native Alaskan': 326, 'Hispanic': 5634}\n"
     ]
    }
   ],
   "source": [
    "#I next filter the results and restrict them to the Homicide intent. This will tell us what the gun-related murder rate per 100,000 people in each racial category is\n",
    "\n",
    "intents = [n[3] for n in data]\n",
    "\n",
    "races = [n[7] for n in data]\n",
    "\n",
    "homicide_race_counts = {}\n",
    "\n",
    "for i, race in enumerate(races):\n",
    "    if intents[i] == \"Homicide\":\n",
    "        if race in homicide_race_counts:\n",
    "            homicide_race_counts[race] += 1\n",
    "        else: \n",
    "            homicide_race_counts[race] = 1\n",
    "            \n",
    "print (homicide_race_counts)"
   ]
  },
  {
   "cell_type": "code",
   "execution_count": 22,
   "metadata": {},
   "outputs": [
    {
     "name": "stdout",
     "output_type": "stream",
     "text": [
      "{'White': 4.6356417981453335, 'Asian/Pacific Islander': 3.530346230970155, 'Black': 48.471284987180944, 'Native American/Native Alaskan': 8.717729026240365, 'Hispanic': 12.627161104219914}\n"
     ]
    }
   ],
   "source": [
    "#Perform the same procedure as previously using mapping on homicide_race_counts to get from raw numbers to rates per 100,000\n",
    "\n",
    "homicide_race_per_hundredk ={}\n",
    "for n in homicide_race_counts:\n",
    "    per_hundredk = homicide_race_counts[n]/mapping[n]*100000\n",
    "    homicide_race_per_hundredk[n] = per_hundredk\n",
    "    \n",
    "print (homicide_race_per_hundredk)"
   ]
  },
  {
   "cell_type": "markdown",
   "metadata": {},
   "source": [
    "Here, Black race has the most gun murder rate per 100,000. However, Hispanic takes the second place, but at 4 times less than the Black. White falls to the second last place, before Asian."
   ]
  },
  {
   "cell_type": "code",
   "execution_count": 25,
   "metadata": {},
   "outputs": [
    {
     "name": "stdout",
     "output_type": "stream",
     "text": [
      "{'M': 29803, 'F': 5373}\n",
      "5.546808114647311\n"
     ]
    }
   ],
   "source": [
    "#Similarly, I explore the homicide rate by gender\n",
    "\n",
    "intents = [n[3] for n in data]\n",
    "\n",
    "genders = [n[5] for n in data]\n",
    "\n",
    "homicide_gender_counts = {}\n",
    "\n",
    "for i, gender in enumerate(genders):\n",
    "    if intents[i] == \"Homicide\":\n",
    "        if gender in homicide_gender_counts:\n",
    "            homicide_gender_counts[gender] += 1\n",
    "        else: \n",
    "            homicide_gender_counts[gender] = 1\n",
    "            \n",
    "print (homicide_gender_counts)\n",
    "print(homicide_gender_counts[\"M\"]/homicide_gender_counts[\"F\"])"
   ]
  },
  {
   "cell_type": "markdown",
   "metadata": {},
   "source": [
    "We see that homicide numbers for males are 5.5 times more than females. However, similar to race, I would need population data for each gener to arrive at a more meaningful conclusion. I, however, still think that even with population data per gender, male homicide rate is still higher than female since the population proportion of male/female should not be extreme"
   ]
  },
  {
   "cell_type": "code",
   "execution_count": 29,
   "metadata": {},
   "outputs": [
    {
     "name": "stdout",
     "output_type": "stream",
     "text": [
      "{'White': 709, 'Native American/Native Alaskan': 25, 'Black': 356, 'Hispanic': 282, 'Asian/Pacific Islander': 30}\n",
      "{'White': 0.3593167196769478, 'Native American/Native Alaskan': 0.6685375020122979, 'Black': 0.8844580961269306, 'Hispanic': 0.6320304280067475, 'Asian/Pacific Islander': 0.18946401955117112}\n"
     ]
    }
   ],
   "source": [
    "#Next, I repeat the steps above but this time I expolore police involved death rates between races.\n",
    "\n",
    "police = [n[4] for n in data]\n",
    "\n",
    "races = [n[7] for n in data]\n",
    "\n",
    "police_death_counts = {}\n",
    "\n",
    "for i, race in enumerate(races):\n",
    "    if police[i] == \"1\":\n",
    "        if race in police_death_counts:\n",
    "            police_death_counts[race] += 1\n",
    "        else: \n",
    "            police_death_counts[race] = 1\n",
    "            \n",
    "print (police_death_counts)\n",
    "\n",
    "police_race_per_hundredk ={}\n",
    "for n in police_death_counts:\n",
    "    per_hundredk = police_death_counts[n]/mapping[n]*100000\n",
    "    police_race_per_hundredk[n] = per_hundredk\n",
    "    \n",
    "print (police_race_per_hundredk)"
   ]
  },
  {
   "cell_type": "markdown",
   "metadata": {},
   "source": [
    "Now we can see that even there are more gun deaths involving police for White than other races but when we incorporate populationd data, death rate per 100,000 sees Black race with the highest number, nearing 1 death per 100,000. This is followed by Native American and Hispanic. White is 4th in the list. "
   ]
  },
  {
   "cell_type": "code",
   "execution_count": null,
   "metadata": {},
   "outputs": [],
   "source": [
    "#Find out if gun death rates correlate to location and education."
   ]
  }
 ],
 "metadata": {
  "kernelspec": {
   "display_name": "Python 3",
   "language": "python",
   "name": "python3"
  },
  "language_info": {
   "codemirror_mode": {
    "name": "ipython",
    "version": 3
   },
   "file_extension": ".py",
   "mimetype": "text/x-python",
   "name": "python",
   "nbconvert_exporter": "python",
   "pygments_lexer": "ipython3",
   "version": "3.6.5"
  }
 },
 "nbformat": 4,
 "nbformat_minor": 2
}
